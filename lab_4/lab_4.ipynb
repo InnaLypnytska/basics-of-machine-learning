{
  "cells": [
    {
      "cell_type": "markdown",
      "source": [
        "# Lab work #4\n",
        "# Lypnytska Inna\n",
        "# CS32\n",
        "# The task contains 2 parts:\n",
        "1. Play with [Tensorflow Playground](https://playground.tensorflow.org) and save a bunch of screenshots (at least 10).\n",
        "2. Solve the classification problem on your dataset from the Lab #2: play with number of neurons, function activation and learning rate (and if you wish play with learning rate schedule)"
      ],
      "metadata": {
        "id": "cNrNLoLWwGpb"
      },
      "id": "cNrNLoLWwGpb"
    },
    {
      "cell_type": "code",
      "source": [
        "import pandas as pd\n",
        "\n",
        "# Завантажуємо датасет\n",
        "df = pd.read_csv(\"CrabAgePrediction.csv\")\n",
        "\n",
        "# Видаляємо пропуски, якщо є\n",
        "df.dropna(inplace=True)\n",
        "\n",
        "# One-hot encoding для статі\n",
        "df = pd.get_dummies(df, columns=[\"Sex\"], drop_first=True)\n"
      ],
      "metadata": {
        "id": "NAGviih-wxWq"
      },
      "id": "NAGviih-wxWq",
      "execution_count": 6,
      "outputs": []
    },
    {
      "cell_type": "code",
      "source": [
        "q1 = df[\"Age\"].quantile(0.25)\n",
        "q3 = df[\"Age\"].quantile(0.75)\n",
        "\n",
        "def classify_age(age):\n",
        "    if age <= q1:\n",
        "        return 0  # Молодий\n",
        "    elif age <= q3:\n",
        "        return 1  # Дорослий\n",
        "    else:\n",
        "        return 2  # Старий\n",
        "\n",
        "df[\"AgeClass\"] = df[\"Age\"].apply(classify_age)\n",
        "df = df.drop(\"Age\", axis=1)\n",
        "\n",
        "# Перевірка кількості зразків у кожному класі\n",
        "print(df[\"AgeClass\"].value_counts())\n"
      ],
      "metadata": {
        "id": "hWyPFXxQw79E",
        "colab": {
          "base_uri": "https://localhost:8080/"
        },
        "outputId": "168abd0d-b1a7-4358-ecff-702746f993ad"
      },
      "id": "hWyPFXxQw79E",
      "execution_count": 7,
      "outputs": [
        {
          "output_type": "stream",
          "name": "stdout",
          "text": [
            "AgeClass\n",
            "1    1697\n",
            "0    1293\n",
            "2     903\n",
            "Name: count, dtype: int64\n"
          ]
        }
      ]
    },
    {
      "cell_type": "code",
      "source": [
        "from sklearn.model_selection import train_test_split\n",
        "\n",
        "X = df.drop(\"AgeClass\", axis=1)\n",
        "y = df[\"AgeClass\"]\n",
        "\n",
        "# Стратифікований поділ (щоб пропорції класів збереглися)\n",
        "X_train, X_test, y_train, y_test = train_test_split(\n",
        "    X, y, test_size=0.2, random_state=42, stratify=y)\n",
        "\n",
        "print(f\"Train size: {X_train.shape[0]}, Test size: {X_test.shape[0]}\")\n"
      ],
      "metadata": {
        "id": "GRiefAl_w8BL",
        "colab": {
          "base_uri": "https://localhost:8080/"
        },
        "outputId": "6573714b-c78f-495d-ab61-d57af67afa35"
      },
      "id": "GRiefAl_w8BL",
      "execution_count": 8,
      "outputs": [
        {
          "output_type": "stream",
          "name": "stdout",
          "text": [
            "Train size: 3114, Test size: 779\n"
          ]
        }
      ]
    },
    {
      "cell_type": "code",
      "source": [
        "from sklearn.preprocessing import StandardScaler\n",
        "\n",
        "scaler = StandardScaler()\n",
        "X_train_scaled = scaler.fit_transform(X_train)\n",
        "X_test_scaled = scaler.transform(X_test)\n"
      ],
      "metadata": {
        "id": "78orSMgV3Rtd"
      },
      "id": "78orSMgV3Rtd",
      "execution_count": 9,
      "outputs": []
    },
    {
      "cell_type": "code",
      "source": [
        "import tensorflow as tf\n",
        "\n",
        "y_train_ohe = tf.keras.utils.to_categorical(y_train, num_classes=3)\n",
        "y_test_ohe = tf.keras.utils.to_categorical(y_test, num_classes=3)\n"
      ],
      "metadata": {
        "id": "JUh2t7BB3Vwp"
      },
      "id": "JUh2t7BB3Vwp",
      "execution_count": 10,
      "outputs": []
    },
    {
      "cell_type": "code",
      "source": [
        "from tensorflow.keras.models import Sequential\n",
        "from tensorflow.keras.layers import Dense\n",
        "from tensorflow.keras.optimizers import Adam\n",
        "\n",
        "def build_model(num_neurons=16, activation='relu', learning_rate=0.001):\n",
        "    model = Sequential([\n",
        "        Dense(num_neurons, activation=activation, input_shape=(X_train_scaled.shape[1],)),\n",
        "        Dense(num_neurons, activation=activation),\n",
        "        Dense(3, activation='softmax')  # 3 класи\n",
        "    ])\n",
        "    optimizer = Adam(learning_rate=learning_rate)\n",
        "    model.compile(optimizer=optimizer,\n",
        "                  loss='categorical_crossentropy',\n",
        "                  metrics=['accuracy'])\n",
        "    return model\n"
      ],
      "metadata": {
        "id": "1ST-Cl0Q3YL-"
      },
      "id": "1ST-Cl0Q3YL-",
      "execution_count": 11,
      "outputs": []
    },
    {
      "cell_type": "code",
      "source": [
        "import numpy as np\n",
        "from sklearn.metrics import classification_report, confusion_matrix\n",
        "\n",
        "params_list = [\n",
        "    {'num_neurons': 16, 'activation': 'relu', 'learning_rate': 0.001},\n",
        "    {'num_neurons': 32, 'activation': 'relu', 'learning_rate': 0.001},\n",
        "    {'num_neurons': 16, 'activation': 'tanh', 'learning_rate': 0.001},\n",
        "    {'num_neurons': 16, 'activation': 'sigmoid', 'learning_rate': 0.001},\n",
        "    {'num_neurons': 16, 'activation': 'relu', 'learning_rate': 0.01},\n",
        "]\n",
        "\n",
        "for i, params in enumerate(params_list, 1):\n",
        "    print(f\"\\n--- Експеримент {i}: {params} ---\")\n",
        "    model = build_model(**params)\n",
        "\n",
        "    history = model.fit(\n",
        "        X_train_scaled, y_train_ohe,\n",
        "        validation_split=0.2,\n",
        "        epochs=50,\n",
        "        batch_size=16,\n",
        "        verbose=0\n",
        "    )\n",
        "\n",
        "    test_loss, test_acc = model.evaluate(X_test_scaled, y_test_ohe, verbose=0)\n",
        "    print(f\"Точність на тесті: {test_acc:.4f}\")\n",
        "\n",
        "    y_pred_prob = model.predict(X_test_scaled)\n",
        "    y_pred = np.argmax(y_pred_prob, axis=1)\n",
        "\n",
        "    print(\"Classification Report:\")\n",
        "    print(classification_report(y_test, y_pred, digits=4))\n",
        "\n",
        "    print(\"Confusion Matrix:\")\n",
        "    print(confusion_matrix(y_test, y_pred))\n"
      ],
      "metadata": {
        "colab": {
          "base_uri": "https://localhost:8080/"
        },
        "id": "rcbyvC213c4r",
        "outputId": "056cbd07-a445-4330-ec98-0a0f95f32239"
      },
      "id": "rcbyvC213c4r",
      "execution_count": 12,
      "outputs": [
        {
          "output_type": "stream",
          "name": "stdout",
          "text": [
            "\n",
            "--- Експеримент 1: {'num_neurons': 16, 'activation': 'relu', 'learning_rate': 0.001} ---\n"
          ]
        },
        {
          "output_type": "stream",
          "name": "stderr",
          "text": [
            "/usr/local/lib/python3.11/dist-packages/keras/src/layers/core/dense.py:87: UserWarning: Do not pass an `input_shape`/`input_dim` argument to a layer. When using Sequential models, prefer using an `Input(shape)` object as the first layer in the model instead.\n",
            "  super().__init__(activity_regularizer=activity_regularizer, **kwargs)\n"
          ]
        },
        {
          "output_type": "stream",
          "name": "stdout",
          "text": [
            "Точність на тесті: 0.6765\n",
            "\u001b[1m25/25\u001b[0m \u001b[32m━━━━━━━━━━━━━━━━━━━━\u001b[0m\u001b[37m\u001b[0m \u001b[1m0s\u001b[0m 3ms/step\n",
            "Classification Report:\n",
            "              precision    recall  f1-score   support\n",
            "\n",
            "           0     0.7080    0.7490    0.7280       259\n",
            "           1     0.6374    0.6844    0.6600       339\n",
            "           2     0.7163    0.5580    0.6273       181\n",
            "\n",
            "    accuracy                         0.6765       779\n",
            "   macro avg     0.6872    0.6638    0.6718       779\n",
            "weighted avg     0.6792    0.6765    0.6750       779\n",
            "\n",
            "Confusion Matrix:\n",
            "[[194  61   4]\n",
            " [ 71 232  36]\n",
            " [  9  71 101]]\n",
            "\n",
            "--- Експеримент 2: {'num_neurons': 32, 'activation': 'relu', 'learning_rate': 0.001} ---\n"
          ]
        },
        {
          "output_type": "stream",
          "name": "stderr",
          "text": [
            "/usr/local/lib/python3.11/dist-packages/keras/src/layers/core/dense.py:87: UserWarning: Do not pass an `input_shape`/`input_dim` argument to a layer. When using Sequential models, prefer using an `Input(shape)` object as the first layer in the model instead.\n",
            "  super().__init__(activity_regularizer=activity_regularizer, **kwargs)\n"
          ]
        },
        {
          "output_type": "stream",
          "name": "stdout",
          "text": [
            "Точність на тесті: 0.6816\n",
            "\u001b[1m25/25\u001b[0m \u001b[32m━━━━━━━━━━━━━━━━━━━━\u001b[0m\u001b[37m\u001b[0m \u001b[1m0s\u001b[0m 3ms/step\n",
            "Classification Report:\n",
            "              precision    recall  f1-score   support\n",
            "\n",
            "           0     0.7572    0.7104    0.7331       259\n",
            "           1     0.6295    0.7168    0.6703       339\n",
            "           2     0.6933    0.5746    0.6284       181\n",
            "\n",
            "    accuracy                         0.6816       779\n",
            "   macro avg     0.6934    0.6673    0.6773       779\n",
            "weighted avg     0.6868    0.6816    0.6815       779\n",
            "\n",
            "Confusion Matrix:\n",
            "[[184  70   5]\n",
            " [ 55 243  41]\n",
            " [  4  73 104]]\n",
            "\n",
            "--- Експеримент 3: {'num_neurons': 16, 'activation': 'tanh', 'learning_rate': 0.001} ---\n"
          ]
        },
        {
          "output_type": "stream",
          "name": "stderr",
          "text": [
            "/usr/local/lib/python3.11/dist-packages/keras/src/layers/core/dense.py:87: UserWarning: Do not pass an `input_shape`/`input_dim` argument to a layer. When using Sequential models, prefer using an `Input(shape)` object as the first layer in the model instead.\n",
            "  super().__init__(activity_regularizer=activity_regularizer, **kwargs)\n"
          ]
        },
        {
          "output_type": "stream",
          "name": "stdout",
          "text": [
            "Точність на тесті: 0.6919\n",
            "\u001b[1m25/25\u001b[0m \u001b[32m━━━━━━━━━━━━━━━━━━━━\u001b[0m\u001b[37m\u001b[0m \u001b[1m0s\u001b[0m 3ms/step\n",
            "Classification Report:\n",
            "              precision    recall  f1-score   support\n",
            "\n",
            "           0     0.7788    0.6795    0.7258       259\n",
            "           1     0.6321    0.7552    0.6882       339\n",
            "           2     0.7230    0.5912    0.6505       181\n",
            "\n",
            "    accuracy                         0.6919       779\n",
            "   macro avg     0.7113    0.6753    0.6881       779\n",
            "weighted avg     0.7020    0.6919    0.6919       779\n",
            "\n",
            "Confusion Matrix:\n",
            "[[176  79   4]\n",
            " [ 46 256  37]\n",
            " [  4  70 107]]\n",
            "\n",
            "--- Експеримент 4: {'num_neurons': 16, 'activation': 'sigmoid', 'learning_rate': 0.001} ---\n"
          ]
        },
        {
          "output_type": "stream",
          "name": "stderr",
          "text": [
            "/usr/local/lib/python3.11/dist-packages/keras/src/layers/core/dense.py:87: UserWarning: Do not pass an `input_shape`/`input_dim` argument to a layer. When using Sequential models, prefer using an `Input(shape)` object as the first layer in the model instead.\n",
            "  super().__init__(activity_regularizer=activity_regularizer, **kwargs)\n"
          ]
        },
        {
          "output_type": "stream",
          "name": "stdout",
          "text": [
            "Точність на тесті: 0.6881\n",
            "\u001b[1m25/25\u001b[0m \u001b[32m━━━━━━━━━━━━━━━━━━━━\u001b[0m\u001b[37m\u001b[0m \u001b[1m0s\u001b[0m 3ms/step\n",
            "Classification Report:\n",
            "              precision    recall  f1-score   support\n",
            "\n",
            "           0     0.7375    0.7375    0.7375       259\n",
            "           1     0.6499    0.7227    0.6844       339\n",
            "           2     0.6993    0.5525    0.6173       181\n",
            "\n",
            "    accuracy                         0.6881       779\n",
            "   macro avg     0.6955    0.6709    0.6797       779\n",
            "weighted avg     0.6905    0.6881    0.6864       779\n",
            "\n",
            "Confusion Matrix:\n",
            "[[191  60   8]\n",
            " [ 59 245  35]\n",
            " [  9  72 100]]\n",
            "\n",
            "--- Експеримент 5: {'num_neurons': 16, 'activation': 'relu', 'learning_rate': 0.01} ---\n"
          ]
        },
        {
          "output_type": "stream",
          "name": "stderr",
          "text": [
            "/usr/local/lib/python3.11/dist-packages/keras/src/layers/core/dense.py:87: UserWarning: Do not pass an `input_shape`/`input_dim` argument to a layer. When using Sequential models, prefer using an `Input(shape)` object as the first layer in the model instead.\n",
            "  super().__init__(activity_regularizer=activity_regularizer, **kwargs)\n"
          ]
        },
        {
          "output_type": "stream",
          "name": "stdout",
          "text": [
            "Точність на тесті: 0.6855\n",
            "\u001b[1m25/25\u001b[0m \u001b[32m━━━━━━━━━━━━━━━━━━━━\u001b[0m\u001b[37m\u001b[0m \u001b[1m0s\u001b[0m 3ms/step\n",
            "Classification Report:\n",
            "              precision    recall  f1-score   support\n",
            "\n",
            "           0     0.7571    0.7220    0.7391       259\n",
            "           1     0.6229    0.7552    0.6827       339\n",
            "           2     0.7521    0.5028    0.6026       181\n",
            "\n",
            "    accuracy                         0.6855       779\n",
            "   macro avg     0.7107    0.6600    0.6748       779\n",
            "weighted avg     0.6975    0.6855    0.6828       779\n",
            "\n",
            "Confusion Matrix:\n",
            "[[187  72   0]\n",
            " [ 53 256  30]\n",
            " [  7  83  91]]\n"
          ]
        }
      ]
    }
  ],
  "metadata": {
    "kernelspec": {
      "display_name": "Python 3",
      "language": "python",
      "name": "python3"
    },
    "language_info": {
      "codemirror_mode": {
        "name": "ipython",
        "version": 2
      },
      "file_extension": ".py",
      "mimetype": "text/x-python",
      "name": "python",
      "nbconvert_exporter": "python",
      "pygments_lexer": "ipython2",
      "version": "2.7.6"
    },
    "colab": {
      "provenance": []
    }
  },
  "nbformat": 4,
  "nbformat_minor": 5
}